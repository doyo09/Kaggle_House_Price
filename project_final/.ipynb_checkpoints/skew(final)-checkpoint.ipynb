{
 "cells": [
  {
   "cell_type": "code",
   "execution_count": null,
   "metadata": {
    "collapsed": true
   },
   "outputs": [],
   "source": [
    "import statsmodels.stats.api as sms\n",
    "import scipy as sp"
   ]
  },
  {
   "cell_type": "code",
   "execution_count": null,
   "metadata": {
    "collapsed": true
   },
   "outputs": [],
   "source": [
    "plt.subplot(211)\n",
    "sns.distplot(df[\"LotArea\"])\n",
    "plt.show()\n",
    "\n",
    "plt.subplot(212)\n",
    "plt.ylim(0, 0.00015)\n",
    "sns.distplot(df[\"MiscVal\"])\n",
    "plt.show()"
   ]
  },
  {
   "cell_type": "code",
   "execution_count": null,
   "metadata": {
    "collapsed": true
   },
   "outputs": [],
   "source": [
    "quantitative = [f for f in df.columns \n",
    "                if df[f].dtypes != 'object']\n",
    "quantitative.remove('SalePrice',)\n",
    "quantitative.remove('Id')\n",
    "quantitative\n",
    "\n",
    "from scipy.stats import skew"
   ]
  },
  {
   "cell_type": "code",
   "execution_count": null,
   "metadata": {
    "collapsed": true
   },
   "outputs": [],
   "source": [
    "skewness = df[quantitative].apply(lambda x : skew(x))\n",
    "skewness"
   ]
  },
  {
   "cell_type": "code",
   "execution_count": null,
   "metadata": {
    "collapsed": true
   },
   "outputs": [],
   "source": [
    "# skewness 값이 0.5 이상인 칼럼들을 대상으로 줄여주기로 하였다.\n",
    "skewness = skewness[abs(skewness) > 0.5]\n",
    "skewness_features = skewness.index\n",
    "skewness_features"
   ]
  },
  {
   "cell_type": "code",
   "execution_count": null,
   "metadata": {
    "collapsed": true
   },
   "outputs": [],
   "source": [
    "skew_list = [ 'LotArea','OverallCond', 'YearBuilt', 'MasVnrArea',\n",
    "      'BsmtFinSF1', 'BsmtFinSF2', 'BsmtUnfSF', 'FirFlrSF', 'SecFlrSF',\n",
    "      'LowQualFinSF', 'BsmtFullBath', 'BsmtHalfBath', 'HalfBath',\n",
    "      'KitchenAbvGr', 'TotRmsAbvGrd', 'Fireplaces', 'GarageYrBlt',\n",
    "      'WoodDeckSF', 'OpenPorchSF', 'EnclosedPorch', 'ThrSsnPorch',\n",
    "      'ScreenPorch', 'PoolArea', 'MiscVal', 'GrLivArea']"
   ]
  },
  {
   "cell_type": "code",
   "execution_count": null,
   "metadata": {
    "collapsed": true
   },
   "outputs": [],
   "source": [
    "df[\"LogSalePrice\"] = df[\"SalePrice\"].apply(lambda x: np.log(x))\n",
    "df = df.drop(\"SalePrice\",axis=1)"
   ]
  },
  {
   "cell_type": "code",
   "execution_count": null,
   "metadata": {
    "collapsed": true
   },
   "outputs": [],
   "source": [
    "for col in skew_list:\n",
    "    df[col] = df[col].apply(np.log1p)\n",
    "    df = df.rename(columns={col:str('Log'+col)})"
   ]
  },
  {
   "cell_type": "code",
   "execution_count": null,
   "metadata": {
    "collapsed": true
   },
   "outputs": [],
   "source": [
    "quantitative_log = []\n",
    "for column in skew_list:\n",
    "    quantitative_log.append(\"Log{}\".format(column))"
   ]
  },
  {
   "cell_type": "code",
   "execution_count": null,
   "metadata": {
    "collapsed": true
   },
   "outputs": [],
   "source": [
    "plt.subplot(211)\n",
    "sns.distplot(df[\"LogLotArea\"])\n",
    "plt.show()\n",
    "\n",
    "plt.subplot(212)\n",
    "plt.ylim(0, 0.2)\n",
    "sns.distplot(df[\"LogMiscVal\"])\n",
    "plt.show()"
   ]
  },
  {
   "cell_type": "code",
   "execution_count": null,
   "metadata": {
    "collapsed": true
   },
   "outputs": [],
   "source": [
    "skewness_comparison = pd.DataFrame(columns = [\"skewness\", \"skewness_log\"])\n",
    "skewness_comparison[\"skewness\"] = skewness.values\n",
    "skewness_comparison[\"skewness_log\"] = skewness_log.values\n",
    "skewness_comparison"
   ]
  },
  {
   "cell_type": "code",
   "execution_count": null,
   "metadata": {
    "collapsed": true
   },
   "outputs": [],
   "source": [
    "up_skew_list = {'LogYearBuilt':'YearBuilt', \n",
    "                'LogBsmtUnfSF':'BsmtUnfSF', \n",
    "                'LogBsmtHalfBath':'BsmtHalfBath', \n",
    "                'LogKitchenAbvGr':'KitchenAbvGr', \n",
    "                'LogGarageYrBlt':'GarageYrBlt', \n",
    "                'LogThrSsnPorch':'ThrSsnPorch', \n",
    "                'LogPoolArea':'PoolArea'}"
   ]
  },
  {
   "cell_type": "code",
   "execution_count": null,
   "metadata": {
    "collapsed": true
   },
   "outputs": [],
   "source": [
    "for col in up_skew_list:\n",
    "    df[col] = np.exp(df[col])\n",
    "df = df.rename(columns = up_skew_list)"
   ]
  }
 ],
 "metadata": {
  "kernelspec": {
   "display_name": "Python 3",
   "language": "python",
   "name": "python3"
  },
  "language_info": {
   "codemirror_mode": {
    "name": "ipython",
    "version": 3
   },
   "file_extension": ".py",
   "mimetype": "text/x-python",
   "name": "python",
   "nbconvert_exporter": "python",
   "pygments_lexer": "ipython3",
   "version": "3.6.3"
  }
 },
 "nbformat": 4,
 "nbformat_minor": 2
}
